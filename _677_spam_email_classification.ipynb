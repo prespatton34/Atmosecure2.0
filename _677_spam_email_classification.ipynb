{
  "nbformat": 4,
  "nbformat_minor": 0,
  "metadata": {
    "colab": {
      "provenance": []
    },
    "kernelspec": {
      "name": "python3",
      "display_name": "Python 3"
    },
    "language_info": {
      "name": "python"
    }
  },
  "cells": [
    {
      "cell_type": "code",
      "execution_count": 5,
      "metadata": {
        "id": "oSNBE_Cx9pyl"
      },
      "outputs": [],
      "source": [
        "import pandas as pd\n",
        "import numpy as np\n",
        "import matplotlib.pyplot as plt\n",
        "import seaborn as sns\n",
        "\n",
        "from sklearn.model_selection import train_test_split\n",
        "from sklearn.feature_extraction.text import TfidfVectorizer\n",
        "from sklearn.preprocessing import StandardScaler\n",
        "from sklearn.ensemble import RandomForestClassifier\n",
        "from sklearn.metrics import classification_report, confusion_matrix\n",
        "from imblearn.over_sampling import SMOTE\n",
        "\n",
        "import re\n",
        "import nltk\n",
        "from nltk.corpus import stopwords\n",
        "from nltk.tokenize import word_tokenize\n",
        "from nltk.stem import WordNetLemmatizer\n",
        "\n",
        "seed=628"
      ]
    },
    {
      "cell_type": "code",
      "source": [
        "nltk.download('punkt')\n",
        "nltk.download('stopwords')\n",
        "nltk.download('wordnet')\n",
        "\n",
        "lemmatizer = WordNetLemmatizer()\n",
        "stop_words = set(stopwords.words('english'))"
      ],
      "metadata": {
        "colab": {
          "base_uri": "https://localhost:8080/"
        },
        "id": "5XchhmEm-yMt",
        "outputId": "f69539de-eacf-434f-a9b9-c61a45ecaf11"
      },
      "execution_count": 6,
      "outputs": [
        {
          "output_type": "stream",
          "name": "stderr",
          "text": [
            "[nltk_data] Downloading package punkt to /root/nltk_data...\n",
            "[nltk_data]   Unzipping tokenizers/punkt.zip.\n",
            "[nltk_data] Downloading package stopwords to /root/nltk_data...\n",
            "[nltk_data]   Unzipping corpora/stopwords.zip.\n",
            "[nltk_data] Downloading package wordnet to /root/nltk_data...\n"
          ]
        }
      ]
    },
    {
      "cell_type": "code",
      "source": [
        "def load_and_split_data(file_path, test_size=0.2, random_state=seed):\n",
        "  df = pd.read_csv(file_path)\n",
        "  X_train, X_test, y_train, y_test = train_test_split(df[['text']], df['spam'], stratify=df['spam'], random_state=random_state)\n",
        "  return X_train, X_test, y_train, y_test"
      ],
      "metadata": {
        "id": "Ykhpvrye--Fv"
      },
      "execution_count": 7,
      "outputs": []
    },
    {
      "cell_type": "code",
      "source": [
        "def preprocess_text(text):\n",
        "  text = text.lower()\n",
        "  text = re.sub(r'[^a-zA-Z\\s]', '', text)\n",
        "  tokens = word_tokenize(text)\n",
        "\n",
        "  tokens = [token for token in tokens if token not in stop_words]\n",
        "  return ' '.join(tokens)\n",
        "\n",
        "def extract_text_features(text):\n",
        "  return {\n",
        "      'text_length': len(text),\n",
        "      'word_count': len(text.split()),\n",
        "      'unique_words': len(set(text.split())),\n",
        "      'caps_ratio': sum(1 for c in text if c.isupper()) / len(text) if len(text) > 0 else 0,\n",
        "  }\n",
        "\n",
        "  def prepare_features(texts, is_training=True):\n",
        "    print(f\"Preprocessing text data...\")\n",
        "    preprocessed_texts = texts['text'].apply(preprocess_text)\n",
        "    features = pd.json_normalize(preprocessed_texts.apply(extract_text_features))\n",
        "\n",
        "\n",
        "    if is_training:\n",
        "      q_low = features['text_length'].quantile(0.01)\n",
        "      q_high = features['text_length'].quantile(0.99)\n",
        "      features['text_length'] = features['text_length'].clip(q_low, q_high)\n",
        "\n",
        "      return preprocessed_texts, features"
      ],
      "metadata": {
        "id": "01PRLOZyBA2Z"
      },
      "execution_count": 23,
      "outputs": []
    },
    {
      "cell_type": "code",
      "source": [
        "def create_model(X_test_train, X_features_train, y_train, max_features=5000):\n",
        "  vectorizer = TfidfVectorizer(max_features=max_features)\n",
        "  X_text_vectorized = vectorizer.fit_transform(X_text_train)\n",
        "\n",
        "  scaler = StandardScaler()\n",
        "  X_features_scaled = scaler.fit_transform(X_features_train)\n",
        "  X_combined = np.hstack((X_text_vectorized.toarray(), X_features_scaled))\n",
        "\n",
        "  smote = SMOTE(random_state=seed)\n",
        "def create_model(X_test_train, X_features_train, y_train, max_features=5000):\n",
        "  vectorizer = TfidfVectorizer(max_features=max_features)\n",
        "  X_text_vectorized = vectorizer.fit_transform(X_test_train)\n",
        "\n",
        "  scaler = StandardScaler()\n",
        "  X_features_scaled = scaler.fit_transform(X_features_train)\n",
        "  X_combined = np.hstack((X_text_vectorized.toarray(), X_features_scaled))\n",
        "\n",
        "  smote = SMOTE(random_state=seed)\n",
        "  X_resampled, y_resampled = smote.fit_resample(X_combined, y_train)\n",
        "\n",
        "  model = RandomForestClassifier(n_estimators=100, max_depth=20, random_state=seed, n_jobs=-1)\n",
        "  model.fit(X_resampled, y_resampled)\n",
        "\n",
        "  return model, vectorizer, scaler\n",
        "\n",
        "def evaluate_model(model, vectorizer, scaler, X_text_test, X_features_test, y_test):\n",
        "  X_test_vectorized = vectorizer.transform(X_text_test)\n",
        "  X_features_scaled = scaler.transform(X_features_test)\n",
        "  X_combined = np.hstack((X_test_vectorized.toarray(), X_features_scaled))\n",
        "  y_pred = model.predict(X_combined)\n",
        "\n",
        "def create_model(X_test_train, X_features_train, y_train, max_features=5000):\n",
        "  vectorizer = TfidfVectorizer(max_features=max_features)\n",
        "  X_text_vectorized = vectorizer.fit_transform(X_test_train)\n",
        "\n",
        "  scaler = StandardScaler()\n",
        "  X_features_scaled = scaler.fit_transform(X_features_train)\n",
        "  X_combined = np.hstack((X_text_vectorized.toarray(), X_features_scaled))\n",
        "\n",
        "  smote = SMOTE(random_state=seed)\n",
        "  X_resampled, y_resampled = smote.fit_resample(X_combined, y_train)\n",
        "\n",
        "  model = RandomForestClassifier(n_estimators=100, max_depth=20, random_state=seed, n_jobs=-1)\n",
        "  model.fit(X_resampled, y_resampled)\n",
        "\n",
        "  return model, vectorizer, scaler\n",
        "\n",
        "def evaluate_model(model, vectorizer, scaler, X_text_test, X_features_test, y_test):\n",
        "  X_test_vectorized = vectorizer.transform(X_text_test)\n",
        "  X_features_scaled = scaler.transform(X_features_test)\n",
        "  X_combined = np.hstack((X_test_vectorized.toarray(), X_features_scaled))\n",
        "  y_pred = model.predict(X_combined)\n",
        "\n",
        "  print(f\"\\nClassification Report:\\n\")\n",
        "  print(classification_report(y_test, y_pred))\n",
        "\n",
        "  plt.figure(figsize=(8, 6))\n",
        "  cm = confusion_matrix(y_test, y_pred)\n",
        "  sns.heatmap(cm, annot=True, fmt='d', cmap='Blues')\n",
        "  plt.title('Confusion Matrix')\n",
        "  plt.ylabel('True Label')\n",
        "  plt.xlabel('Predicted Label')\n",
        "  plt.show()\n",
        "\n",
        "  return y_pred"
      ],
      "metadata": {
        "id": "vkc4iDKQCcvV"
      },
      "execution_count": 24,
      "outputs": []
    },
    {
      "cell_type": "code",
      "source": [
        "X_train, X_test, y_train, y_test = load_and_split_data('/content/emails.csv')\n",
        "\n",
        "X_text_train, X_features_train = prepare_features(X_train, is_training=True)\n",
        "X_text_test, X_features_test = prepare_features(X_test, is_training=False)"
      ],
      "metadata": {
        "colab": {
          "base_uri": "https://localhost:8080/",
          "height": 245
        },
        "id": "4COAethoEwFU",
        "outputId": "a6d8e9be-b920-4bda-fc6f-41d0ef98f2d9"
      },
      "execution_count": 26,
      "outputs": [
        {
          "output_type": "error",
          "ename": "NameError",
          "evalue": "name 'prepare_features' is not defined",
          "traceback": [
            "\u001b[0;31m---------------------------------------------------------------------------\u001b[0m",
            "\u001b[0;31mNameError\u001b[0m                                 Traceback (most recent call last)",
            "\u001b[0;32m<ipython-input-26-f11781645934>\u001b[0m in \u001b[0;36m<cell line: 3>\u001b[0;34m()\u001b[0m\n\u001b[1;32m      1\u001b[0m \u001b[0mX_train\u001b[0m\u001b[0;34m,\u001b[0m \u001b[0mX_test\u001b[0m\u001b[0;34m,\u001b[0m \u001b[0my_train\u001b[0m\u001b[0;34m,\u001b[0m \u001b[0my_test\u001b[0m \u001b[0;34m=\u001b[0m \u001b[0mload_and_split_data\u001b[0m\u001b[0;34m(\u001b[0m\u001b[0;34m'/content/emails.csv'\u001b[0m\u001b[0;34m)\u001b[0m\u001b[0;34m\u001b[0m\u001b[0;34m\u001b[0m\u001b[0m\n\u001b[1;32m      2\u001b[0m \u001b[0;34m\u001b[0m\u001b[0m\n\u001b[0;32m----> 3\u001b[0;31m \u001b[0mX_text_train\u001b[0m\u001b[0;34m,\u001b[0m \u001b[0mX_features_train\u001b[0m \u001b[0;34m=\u001b[0m \u001b[0mprepare_features\u001b[0m\u001b[0;34m(\u001b[0m\u001b[0mX_train\u001b[0m\u001b[0;34m,\u001b[0m \u001b[0mis_training\u001b[0m\u001b[0;34m=\u001b[0m\u001b[0;32mTrue\u001b[0m\u001b[0;34m)\u001b[0m\u001b[0;34m\u001b[0m\u001b[0;34m\u001b[0m\u001b[0m\n\u001b[0m\u001b[1;32m      4\u001b[0m \u001b[0mX_text_test\u001b[0m\u001b[0;34m,\u001b[0m \u001b[0mX_features_test\u001b[0m \u001b[0;34m=\u001b[0m \u001b[0mprepare_features\u001b[0m\u001b[0;34m(\u001b[0m\u001b[0mX_test\u001b[0m\u001b[0;34m,\u001b[0m \u001b[0mis_training\u001b[0m\u001b[0;34m=\u001b[0m\u001b[0;32mFalse\u001b[0m\u001b[0;34m)\u001b[0m\u001b[0;34m\u001b[0m\u001b[0;34m\u001b[0m\u001b[0m\n",
            "\u001b[0;31mNameError\u001b[0m: name 'prepare_features' is not defined"
          ]
        }
      ]
    },
    {
      "cell_type": "code",
      "source": [
        "import pandas as pd\n",
        "import numpy as np\n",
        "import matplotlib.pyplot as plt\n",
        "import seaborn as sns\n",
        "\n",
        "from sklearn.model_selection import train_test_split\n",
        "from sklearn.feature_extraction.text import TfidfVectorizer\n",
        "from sklearn.preprocessing import StandardScaler\n",
        "from sklearn.ensemble import RandomForestClassifier\n",
        "from sklearn.metrics import classification_report, confusion_matrix\n",
        "from imblearn.over_sampling import SMOTE\n",
        "\n",
        "!pip install nltk\n",
        "import re\n",
        "import nltk\n",
        "from nltk.corpus import stopwords\n",
        "from nltk.tokenize import word_tokenize\n",
        "from nltk.stem import WordNetLemmatizer\n",
        "\n",
        "seed=628\n",
        "\n",
        "\n",
        "nltk.download('punkt_tab')\n",
        "nltk.download('stopwords')\n",
        "nltk.download('wordnet')\n",
        "\n",
        "lemmatizer = WordNetLemmatizer()\n",
        "stop_words = set(stopwords.words('english'))\n",
        "\n",
        "def load_and_split_data(file_path, test_size=0.2, random_state=seed):\n",
        "  df = pd.read_csv(file_path)\n",
        "  X_train, X_test, y_train, y_test = train_test_split(df[['text']], df['spam'], stratify=df['spam'], random_state=random_state)\n",
        "  return X_train, X_test, y_train, y_test\n",
        "\n",
        "def preprocess_text(text):\n",
        "  text = text.lower()\n",
        "  text = re.sub(r'[^a-zA-Z\\s]', '', text)\n",
        "  tokens = word_tokenize(text)\n",
        "\n",
        "  tokens = [token for token in tokens if token not in stop_words]\n",
        "  return ' '.join(tokens)\n",
        "\n",
        "def extract_text_features(text):\n",
        "  return {\n",
        "      'text_length': len(text),\n",
        "      'word_count': len(text.split()),\n",
        "      'unique_words': len(set(text.split())),\n",
        "      'caps_ratio': sum(1 for c in text if c.isupper()) / len(text) if len(text) > 0 else 0,\n",
        "  }\n",
        "\n",
        "# Move prepare_features outside of extract_text_features\n",
        "def prepare_features(texts, is_training=True):\n",
        "  print(f\"Preprocessing text data...\")\n",
        "  preprocessed_texts = texts['text'].apply(preprocess_text)\n",
        "  features = pd.json_normalize(preprocessed_texts.apply(extract_text_features))\n",
        "\n",
        "  if is_training:\n",
        "    q_low = features['text_length'].quantile(0.01)\n",
        "    q_high = features['text_length'].quantile(0.99)\n",
        "    features['text_length'] = features['text_length'].clip(q_low, q_high)\n",
        "\n",
        "  return preprocessed_texts, features\n",
        "\n",
        "def create_model(X_test_train, X_features_train, y_train, max_features=5000):\n",
        "  vectorizer = TfidfVectorizer(max_features=max_features)\n",
        "  X_text_vectorized = vectorizer.fit_transform(X_test_train)\n",
        "\n",
        "  scaler = StandardScaler()\n",
        "  X_features_scaled = scaler.fit_transform(X_features_train)\n",
        "  X_combined = np.hstack((X_text_vectorized.toarray(), X_features_scaled))\n",
        "\n",
        "  smote = SMOTE(random_state=seed)\n",
        "  X_resampled, y_resampled = smote.fit_resample(X_combined, y_train)\n",
        "\n",
        "  model = RandomForestClassifier(n_estimators=100, max_depth=20, random_state=seed, n_jobs=-1)\n",
        "  model.fit(X_resampled, y_resampled)\n",
        "\n",
        "  return model, vectorizer, scaler\n",
        "\n",
        "def evaluate_model(model, vectorizer, scaler, X_text_test, X_features_test, y_test):\n",
        "  X_test_vectorized = vectorizer.transform(X_text_test)\n",
        "  X_features_scaled = scaler.transform(X_features_test)\n",
        "  X_combined = np.hstack((X_test_vectorized.toarray(), X_features_scaled))\n",
        "  y_pred = model.predict(X_combined)\n",
        "\n",
        "  print(f\"\\nClassification Report:\\n\")\n",
        "  print(classification_report(y_test, y_pred))\n",
        "\n",
        "  plt.figure(figsize=(8, 6))\n",
        "  cm = confusion_matrix(y_test, y_pred)\n",
        "  sns.heatmap(cm, annot=True, fmt='d', cmap='Blues')\n",
        "  plt.title('Confusion Matrix')\n",
        "  plt.ylabel('True Label')\n",
        "  plt.xlabel('Predicted Label')\n",
        "  plt.show()\n",
        "\n",
        "  return y_pred\n",
        "\n",
        "X_train, X_test, y_train, y_test = load_and_split_data('/content/emails.csv')\n",
        "\n",
        "X_text_train, X_features_train = prepare_features(X_train, is_training=True)\n",
        "X_text_test, X_features_test = prepare_features(X_test, is_training=False) #Fixed typo here, should be X_text_test"
      ],
      "metadata": {
        "colab": {
          "base_uri": "https://localhost:8080/"
        },
        "id": "NkustJoBRevp",
        "outputId": "4629f489-c9fc-42fb-914b-64028f7981a8"
      },
      "execution_count": 34,
      "outputs": [
        {
          "output_type": "stream",
          "name": "stdout",
          "text": [
            "Requirement already satisfied: nltk in /usr/local/lib/python3.10/dist-packages (3.9.1)\n",
            "Requirement already satisfied: click in /usr/local/lib/python3.10/dist-packages (from nltk) (8.1.8)\n",
            "Requirement already satisfied: joblib in /usr/local/lib/python3.10/dist-packages (from nltk) (1.4.2)\n",
            "Requirement already satisfied: regex>=2021.8.3 in /usr/local/lib/python3.10/dist-packages (from nltk) (2024.11.6)\n",
            "Requirement already satisfied: tqdm in /usr/local/lib/python3.10/dist-packages (from nltk) (4.67.1)\n"
          ]
        },
        {
          "output_type": "stream",
          "name": "stderr",
          "text": [
            "[nltk_data] Downloading package punkt_tab to /root/nltk_data...\n",
            "[nltk_data]   Package punkt_tab is already up-to-date!\n",
            "[nltk_data] Downloading package stopwords to /root/nltk_data...\n",
            "[nltk_data]   Package stopwords is already up-to-date!\n",
            "[nltk_data] Downloading package wordnet to /root/nltk_data...\n",
            "[nltk_data]   Package wordnet is already up-to-date!\n"
          ]
        },
        {
          "output_type": "stream",
          "name": "stdout",
          "text": [
            "Preprocessing text data...\n",
            "Preprocessing text data...\n"
          ]
        }
      ]
    },
    {
      "cell_type": "code",
      "source": [
        "model, vectorizer, scaler = create_model(X_text_train, X_features_train, y_train)"
      ],
      "metadata": {
        "id": "bXiw6TyKSGF0"
      },
      "execution_count": 35,
      "outputs": []
    },
    {
      "cell_type": "code",
      "source": [
        "predictions = evaluate_model(model, vectorizer, scaler, X_text_test, X_features_test, y_test)"
      ],
      "metadata": {
        "colab": {
          "base_uri": "https://localhost:8080/",
          "height": 748
        },
        "id": "DOhLUKowSQFV",
        "outputId": "44e6dd7c-6dc7-4305-b3d7-1fae09ef52e6"
      },
      "execution_count": 36,
      "outputs": [
        {
          "output_type": "stream",
          "name": "stdout",
          "text": [
            "\n",
            "Classification Report:\n",
            "\n",
            "              precision    recall  f1-score   support\n",
            "\n",
            "           0       1.00      0.97      0.98      1090\n",
            "           1       0.92      0.99      0.95       342\n",
            "\n",
            "    accuracy                           0.98      1432\n",
            "   macro avg       0.96      0.98      0.97      1432\n",
            "weighted avg       0.98      0.98      0.98      1432\n",
            "\n"
          ]
        },
        {
          "output_type": "display_data",
          "data": {
            "text/plain": [
              "<Figure size 800x600 with 2 Axes>"
            ],
            "image/png": "[encoded data removed]"
          },
          "metadata": {}
        }
      ]
    }
  ]
}